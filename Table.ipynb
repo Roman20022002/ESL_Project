{
 "cells": [
  {
   "cell_type": "code",
   "execution_count": 1,
   "metadata": {},
   "outputs": [],
   "source": [
    "import numpy as np\n",
    "import pandas as pd\n",
    "import matplotlib.pyplot as plt\n",
    "\n",
    "from sklearn.preprocessing import StandardScaler\n",
    "from sklearn.decomposition import PCA\n",
    "from sklearn.model_selection import train_test_split, cross_val_predict\n",
    "from sklearn.calibration import CalibratedClassifierCV\n",
    "\n",
    "from sklearn.pipeline import make_pipeline\n",
    "# Linear Models\n",
    "from sklearn.linear_model import LogisticRegression, RidgeClassifier\n",
    "from sklearn.preprocessing import PolynomialFeatures\n",
    "\n",
    "# Linear & Quadratic Discriminant Analysis\n",
    "from sklearn.discriminant_analysis import LinearDiscriminantAnalysis, QuadraticDiscriminantAnalysis\n",
    "\n",
    "# Support Vector Machines\n",
    "from sklearn.svm import LinearSVC, SVC\n",
    "\n",
    "# Stochastic Gradient Descent\n",
    "from sklearn.linear_model import SGDClassifier\n",
    "from sklearn.kernel_approximation import Nystroem\n",
    "\n",
    "# Naive Bayes\n",
    "from sklearn.naive_bayes import GaussianNB, MultinomialNB, ComplementNB, CategoricalNB\n",
    "\n",
    "# Decision Trees\n",
    "from sklearn.tree import DecisionTreeClassifier\n",
    "from sklearn.ensemble import RandomForestClassifier\n",
    "\n",
    "# Additional\n",
    "from sklearn.neighbors import KNeighborsClassifier\n",
    "from sklearn.ensemble import BaggingClassifier, AdaBoostClassifier\n",
    "\n",
    "from tqdm import tqdm\n",
    "import warnings\n",
    "warnings.filterwarnings(\"ignore\", category=FutureWarning)"
   ]
  },
  {
   "cell_type": "markdown",
   "metadata": {},
   "source": [
    "## Pre-processing"
   ]
  },
  {
   "cell_type": "code",
   "execution_count": 2,
   "metadata": {},
   "outputs": [],
   "source": [
    "file_path = \"data.csv\"\n",
    "data = pd.read_csv(file_path, delimiter=\";\")\n",
    "data = data[data['Target'] != 'Enrolled'] #only considering 'Dropout' and 'Graduate'\n",
    "\n",
    "\n",
    "# Identify numerical and categorical columns\n",
    "numerical_columns = data.select_dtypes(include=[\"float64\", \"int64\"]).columns.tolist()\n",
    "categorical_columns = [\"Marital status\", \"Daytime/evening attendance\\t\", \"Gender\", \"Target\"]\n",
    "\n",
    "# Handle outliers in numerical columns using z-score (capping values beyond 3 standard deviations)\n",
    "numerical_columns = [col for col in numerical_columns if col not in categorical_columns]\n",
    "data[numerical_columns] = data[numerical_columns].apply(\n",
    "    lambda x: x.clip(lower=x.mean() - 3 * x.std(), upper=x.mean() + 3 * x.std())\n",
    ") #column-wise\n",
    "\n",
    "# Encoding categorical variables\n",
    "data_encoded = pd.get_dummies(data, columns=categorical_columns[:-1], drop_first=True)\n",
    "\n",
    "# Standardize numerical columns for consistency across all classifiers\n",
    "scaler = StandardScaler()\n",
    "data_encoded[numerical_columns] = scaler.fit_transform(data_encoded[numerical_columns])\n",
    "\n",
    "# Apply PCA to retain 95% of variance\n",
    "X = data_encoded.drop(columns=[\"Target\"])\n",
    "y = data_encoded[\"Target\"]\n",
    "pca = PCA(n_components=0.95, random_state=42)\n",
    "X_pca = pca.fit_transform(X)"
   ]
  },
  {
   "cell_type": "markdown",
   "metadata": {},
   "source": [
    "## Benchmarking"
   ]
  },
  {
   "cell_type": "code",
   "execution_count": 3,
   "metadata": {},
   "outputs": [
    {
     "name": "stderr",
     "output_type": "stream",
     "text": [
      " 11%|█         | 2/18 [00:00<00:01,  9.22it/s]"
     ]
    },
    {
     "name": "stdout",
     "output_type": "stream",
     "text": [
      "RidgeClassifier\n"
     ]
    },
    {
     "name": "stderr",
     "output_type": "stream",
     "text": [
      " 39%|███▉      | 7/18 [00:00<00:00, 18.13it/s]"
     ]
    },
    {
     "name": "stdout",
     "output_type": "stream",
     "text": [
      "LinearSVC\n"
     ]
    },
    {
     "name": "stderr",
     "output_type": "stream",
     "text": [
      " 50%|█████     | 9/18 [00:00<00:01,  8.76it/s]"
     ]
    },
    {
     "name": "stdout",
     "output_type": "stream",
     "text": [
      "HingeSGDClassifier\n",
      "PolynomialSGDClassifier\n"
     ]
    },
    {
     "name": "stderr",
     "output_type": "stream",
     "text": [
      " 72%|███████▏  | 13/18 [00:01<00:00,  8.34it/s]"
     ]
    },
    {
     "name": "stdout",
     "output_type": "stream",
     "text": [
      "DecisionTreeClassifier\n",
      "FullDecisionTreeClassifier\n"
     ]
    },
    {
     "name": "stderr",
     "output_type": "stream",
     "text": [
      " 83%|████████▎ | 15/18 [00:03<00:01,  2.81it/s]"
     ]
    },
    {
     "name": "stdout",
     "output_type": "stream",
     "text": [
      "KNeighborsClassifier\n"
     ]
    },
    {
     "name": "stderr",
     "output_type": "stream",
     "text": [
      " 89%|████████▉ | 16/18 [00:03<00:00,  2.57it/s]"
     ]
    },
    {
     "name": "stdout",
     "output_type": "stream",
     "text": [
      "BaggingClassifier\n"
     ]
    },
    {
     "name": "stderr",
     "output_type": "stream",
     "text": [
      " 94%|█████████▍| 17/18 [00:06<00:00,  1.29it/s]"
     ]
    },
    {
     "name": "stdout",
     "output_type": "stream",
     "text": [
      "AdaBoostClassifier\n"
     ]
    },
    {
     "name": "stderr",
     "output_type": "stream",
     "text": [
      "100%|██████████| 18/18 [00:11<00:00,  1.59it/s]\n"
     ]
    }
   ],
   "source": [
    "classifiers = {\n",
    "    \"LogisticRegression\": LogisticRegression(),\n",
    "    \"RidgeClassifier\": RidgeClassifier(), \n",
    "\n",
    "    \"LinearDiscriminantAnalysis\": LinearDiscriminantAnalysis(),\n",
    "    \"ShrinkageLDA\": LinearDiscriminantAnalysis(solver=\"lsqr\", shrinkage=\"auto\"), \n",
    "    \"QuadraticDiscriminantAnalysis\": QuadraticDiscriminantAnalysis(),\n",
    "    \"RegularizedQDA\": QuadraticDiscriminantAnalysis(reg_param=0.5), #reg points? \n",
    "\n",
    "    \"LinearSVC\": LinearSVC(),\n",
    "    \"SVC_rbf\": SVC(kernel='rbf', probability=True), \n",
    "\n",
    "    \"HingeSGDClassifier\": SGDClassifier(loss='hinge'),\n",
    "    \"LogLossSGDClassifier\": SGDClassifier(loss='log_loss'),\n",
    "    \"PolynomialSGDClassifier\": make_pipeline(PolynomialFeatures(), SGDClassifier()), \n",
    "\n",
    "    \"GaussianNB\": GaussianNB(),\n",
    "    #\"MultinomialNB\": MultinomialNB(), different data scale --> different train/test sets\n",
    "    #\"ComplementNB\": ComplementNB(), \n",
    "    #\"CategoricalNB\": CategoricalNB(), \n",
    "\n",
    "    \"DecisionTreeClassifier\": DecisionTreeClassifier(max_depth=1),\n",
    "    \"FullDecisionTreeClassifier\": DecisionTreeClassifier(),\n",
    "    \"RandomForestClassifier\": RandomForestClassifier(),\n",
    "\n",
    "    \"KNeighborsClassifier\": KNeighborsClassifier(),\n",
    "    \"BaggingClassifier\": BaggingClassifier(),\n",
    "    \"AdaBoostClassifier\": AdaBoostClassifier()\n",
    "}\n",
    "# Classifiers needing calibration due to unreliable probabilities\n",
    "requires_calibration = {\n",
    "    \"DecisionTreeClassifier\",\n",
    "    \"FullDecisionTreeClassifier\",\n",
    "    \"KNeighborsClassifier\",\n",
    "    \"AdaBoostClassifier\",\n",
    "    \"BaggingClassifier\"   \n",
    "}\n",
    "\n",
    "X_train, X_test, y_train, y_test = train_test_split(X_pca, y, test_size=0.2, random_state=42, stratify=y) #for having same proportions of each class through folds (dataset unbalanced!)\n",
    "target_mapping = {\"Dropout\": 0, \"Graduate\": 1}\n",
    "results = []\n",
    "\n",
    "tqdm_iter = tqdm(classifiers.items())\n",
    "for clf_name, clf in tqdm_iter:\n",
    "\n",
    "    if not hasattr(clf, \"predict_proba\") or clf_name in requires_calibration:\n",
    "        print(clf_name)\n",
    "        clf = CalibratedClassifierCV(clf, method='sigmoid')\n",
    "    \n",
    "    probs = cross_val_predict(clf, X_test, y_test, cv=5, method='predict_proba')\n",
    "    preds = np.argmax(probs, axis=1)\n",
    "    dropout_probs = [prob[0] for prob in probs]\n",
    "    for i, (pred, prob) in enumerate(zip(preds, dropout_probs)):\n",
    "\n",
    "        if len(results) <= i:\n",
    "            true_label = y_test.iloc[i]\n",
    "            results.append({\"True_Label\": true_label})\n",
    "\n",
    "        pred_label = \"Dropout\" if pred == target_mapping[\"Dropout\"] else \"Graduate\"\n",
    "        results[i][f\"{clf_name}_conf\"] = prob\n",
    "        results[i][f\"{clf_name}_pred\"] = 1 if pred_label == \"Dropout\" else 0\n",
    "\n",
    "\n",
    "results_df = pd.DataFrame(results)"
   ]
  },
  {
   "cell_type": "code",
   "execution_count": 4,
   "metadata": {},
   "outputs": [
    {
     "data": {
      "text/html": [
       "<div>\n",
       "<style scoped>\n",
       "    .dataframe tbody tr th:only-of-type {\n",
       "        vertical-align: middle;\n",
       "    }\n",
       "\n",
       "    .dataframe tbody tr th {\n",
       "        vertical-align: top;\n",
       "    }\n",
       "\n",
       "    .dataframe thead th {\n",
       "        text-align: right;\n",
       "    }\n",
       "</style>\n",
       "<table border=\"1\" class=\"dataframe\">\n",
       "  <thead>\n",
       "    <tr style=\"text-align: right;\">\n",
       "      <th></th>\n",
       "      <th>True_Label</th>\n",
       "      <th>LogisticRegression_conf</th>\n",
       "      <th>LogisticRegression_pred</th>\n",
       "      <th>RidgeClassifier_conf</th>\n",
       "      <th>RidgeClassifier_pred</th>\n",
       "      <th>LinearDiscriminantAnalysis_conf</th>\n",
       "      <th>LinearDiscriminantAnalysis_pred</th>\n",
       "      <th>ShrinkageLDA_conf</th>\n",
       "      <th>ShrinkageLDA_pred</th>\n",
       "      <th>QuadraticDiscriminantAnalysis_conf</th>\n",
       "      <th>...</th>\n",
       "      <th>FullDecisionTreeClassifier_conf</th>\n",
       "      <th>FullDecisionTreeClassifier_pred</th>\n",
       "      <th>RandomForestClassifier_conf</th>\n",
       "      <th>RandomForestClassifier_pred</th>\n",
       "      <th>KNeighborsClassifier_conf</th>\n",
       "      <th>KNeighborsClassifier_pred</th>\n",
       "      <th>BaggingClassifier_conf</th>\n",
       "      <th>BaggingClassifier_pred</th>\n",
       "      <th>AdaBoostClassifier_conf</th>\n",
       "      <th>AdaBoostClassifier_pred</th>\n",
       "    </tr>\n",
       "  </thead>\n",
       "  <tbody>\n",
       "    <tr>\n",
       "      <th>0</th>\n",
       "      <td>Dropout</td>\n",
       "      <td>0.341509</td>\n",
       "      <td>0</td>\n",
       "      <td>0.297440</td>\n",
       "      <td>0</td>\n",
       "      <td>0.147633</td>\n",
       "      <td>0</td>\n",
       "      <td>0.319817</td>\n",
       "      <td>0</td>\n",
       "      <td>9.990813e-01</td>\n",
       "      <td>...</td>\n",
       "      <td>0.281714</td>\n",
       "      <td>0</td>\n",
       "      <td>0.48</td>\n",
       "      <td>0</td>\n",
       "      <td>0.492927</td>\n",
       "      <td>0</td>\n",
       "      <td>0.160978</td>\n",
       "      <td>0</td>\n",
       "      <td>0.374157</td>\n",
       "      <td>0</td>\n",
       "    </tr>\n",
       "    <tr>\n",
       "      <th>1</th>\n",
       "      <td>Graduate</td>\n",
       "      <td>0.061429</td>\n",
       "      <td>0</td>\n",
       "      <td>0.069597</td>\n",
       "      <td>0</td>\n",
       "      <td>0.013215</td>\n",
       "      <td>0</td>\n",
       "      <td>0.043883</td>\n",
       "      <td>0</td>\n",
       "      <td>1.620350e-07</td>\n",
       "      <td>...</td>\n",
       "      <td>0.196472</td>\n",
       "      <td>0</td>\n",
       "      <td>0.18</td>\n",
       "      <td>0</td>\n",
       "      <td>0.098991</td>\n",
       "      <td>0</td>\n",
       "      <td>0.164925</td>\n",
       "      <td>0</td>\n",
       "      <td>0.119818</td>\n",
       "      <td>0</td>\n",
       "    </tr>\n",
       "    <tr>\n",
       "      <th>2</th>\n",
       "      <td>Graduate</td>\n",
       "      <td>0.024072</td>\n",
       "      <td>0</td>\n",
       "      <td>0.052384</td>\n",
       "      <td>0</td>\n",
       "      <td>0.009149</td>\n",
       "      <td>0</td>\n",
       "      <td>0.052966</td>\n",
       "      <td>0</td>\n",
       "      <td>1.187240e-06</td>\n",
       "      <td>...</td>\n",
       "      <td>0.493762</td>\n",
       "      <td>0</td>\n",
       "      <td>0.29</td>\n",
       "      <td>0</td>\n",
       "      <td>0.127961</td>\n",
       "      <td>0</td>\n",
       "      <td>0.134008</td>\n",
       "      <td>0</td>\n",
       "      <td>0.120937</td>\n",
       "      <td>0</td>\n",
       "    </tr>\n",
       "    <tr>\n",
       "      <th>3</th>\n",
       "      <td>Graduate</td>\n",
       "      <td>0.070227</td>\n",
       "      <td>0</td>\n",
       "      <td>0.081399</td>\n",
       "      <td>0</td>\n",
       "      <td>0.019248</td>\n",
       "      <td>0</td>\n",
       "      <td>0.057954</td>\n",
       "      <td>0</td>\n",
       "      <td>1.334457e-03</td>\n",
       "      <td>...</td>\n",
       "      <td>0.196472</td>\n",
       "      <td>0</td>\n",
       "      <td>0.15</td>\n",
       "      <td>0</td>\n",
       "      <td>0.201423</td>\n",
       "      <td>0</td>\n",
       "      <td>0.104056</td>\n",
       "      <td>0</td>\n",
       "      <td>0.151312</td>\n",
       "      <td>0</td>\n",
       "    </tr>\n",
       "    <tr>\n",
       "      <th>4</th>\n",
       "      <td>Graduate</td>\n",
       "      <td>0.017772</td>\n",
       "      <td>0</td>\n",
       "      <td>0.032749</td>\n",
       "      <td>0</td>\n",
       "      <td>0.004617</td>\n",
       "      <td>0</td>\n",
       "      <td>0.027052</td>\n",
       "      <td>0</td>\n",
       "      <td>2.525464e-07</td>\n",
       "      <td>...</td>\n",
       "      <td>0.281714</td>\n",
       "      <td>0</td>\n",
       "      <td>0.09</td>\n",
       "      <td>0</td>\n",
       "      <td>0.374250</td>\n",
       "      <td>0</td>\n",
       "      <td>0.104344</td>\n",
       "      <td>0</td>\n",
       "      <td>0.170534</td>\n",
       "      <td>0</td>\n",
       "    </tr>\n",
       "  </tbody>\n",
       "</table>\n",
       "<p>5 rows × 37 columns</p>\n",
       "</div>"
      ],
      "text/plain": [
       "  True_Label  LogisticRegression_conf  LogisticRegression_pred  \\\n",
       "0    Dropout                 0.341509                        0   \n",
       "1   Graduate                 0.061429                        0   \n",
       "2   Graduate                 0.024072                        0   \n",
       "3   Graduate                 0.070227                        0   \n",
       "4   Graduate                 0.017772                        0   \n",
       "\n",
       "   RidgeClassifier_conf  RidgeClassifier_pred  \\\n",
       "0              0.297440                     0   \n",
       "1              0.069597                     0   \n",
       "2              0.052384                     0   \n",
       "3              0.081399                     0   \n",
       "4              0.032749                     0   \n",
       "\n",
       "   LinearDiscriminantAnalysis_conf  LinearDiscriminantAnalysis_pred  \\\n",
       "0                         0.147633                                0   \n",
       "1                         0.013215                                0   \n",
       "2                         0.009149                                0   \n",
       "3                         0.019248                                0   \n",
       "4                         0.004617                                0   \n",
       "\n",
       "   ShrinkageLDA_conf  ShrinkageLDA_pred  QuadraticDiscriminantAnalysis_conf  \\\n",
       "0           0.319817                  0                        9.990813e-01   \n",
       "1           0.043883                  0                        1.620350e-07   \n",
       "2           0.052966                  0                        1.187240e-06   \n",
       "3           0.057954                  0                        1.334457e-03   \n",
       "4           0.027052                  0                        2.525464e-07   \n",
       "\n",
       "   ...  FullDecisionTreeClassifier_conf  FullDecisionTreeClassifier_pred  \\\n",
       "0  ...                         0.281714                                0   \n",
       "1  ...                         0.196472                                0   \n",
       "2  ...                         0.493762                                0   \n",
       "3  ...                         0.196472                                0   \n",
       "4  ...                         0.281714                                0   \n",
       "\n",
       "   RandomForestClassifier_conf  RandomForestClassifier_pred  \\\n",
       "0                         0.48                            0   \n",
       "1                         0.18                            0   \n",
       "2                         0.29                            0   \n",
       "3                         0.15                            0   \n",
       "4                         0.09                            0   \n",
       "\n",
       "   KNeighborsClassifier_conf  KNeighborsClassifier_pred  \\\n",
       "0                   0.492927                          0   \n",
       "1                   0.098991                          0   \n",
       "2                   0.127961                          0   \n",
       "3                   0.201423                          0   \n",
       "4                   0.374250                          0   \n",
       "\n",
       "   BaggingClassifier_conf  BaggingClassifier_pred  AdaBoostClassifier_conf  \\\n",
       "0                0.160978                       0                 0.374157   \n",
       "1                0.164925                       0                 0.119818   \n",
       "2                0.134008                       0                 0.120937   \n",
       "3                0.104056                       0                 0.151312   \n",
       "4                0.104344                       0                 0.170534   \n",
       "\n",
       "   AdaBoostClassifier_pred  \n",
       "0                        0  \n",
       "1                        0  \n",
       "2                        0  \n",
       "3                        0  \n",
       "4                        0  \n",
       "\n",
       "[5 rows x 37 columns]"
      ]
     },
     "execution_count": 4,
     "metadata": {},
     "output_type": "execute_result"
    }
   ],
   "source": [
    "results_df.head()"
   ]
  },
  {
   "cell_type": "code",
   "execution_count": 5,
   "metadata": {},
   "outputs": [
    {
     "data": {
      "text/plain": [
       "(0    0.469733\n",
       " 1    0.059526\n",
       " 2    0.078305\n",
       " 3    0.071009\n",
       " 4    0.030366\n",
       " Name: SVC_rbf_conf, dtype: float64,\n",
       " 0    0\n",
       " 1    0\n",
       " 2    0\n",
       " 3    0\n",
       " 4    0\n",
       " Name: SVC_rbf_pred, dtype: int64)"
      ]
     },
     "execution_count": 5,
     "metadata": {},
     "output_type": "execute_result"
    }
   ],
   "source": [
    "results_df[\"SVC_rbf_conf\"].head(), results_df[\"SVC_rbf_pred\"].head()"
   ]
  },
  {
   "cell_type": "code",
   "execution_count": 6,
   "metadata": {},
   "outputs": [],
   "source": [
    "results_df.to_csv(\"results_table.csv\", index=False)"
   ]
  },
  {
   "cell_type": "markdown",
   "metadata": {},
   "source": [
    "### Analysis"
   ]
  },
  {
   "cell_type": "code",
   "execution_count": 7,
   "metadata": {},
   "outputs": [
    {
     "name": "stdout",
     "output_type": "stream",
     "text": [
      "726\n"
     ]
    }
   ],
   "source": [
    "print(len(y_test))"
   ]
  },
  {
   "cell_type": "code",
   "execution_count": 8,
   "metadata": {},
   "outputs": [
    {
     "name": "stdout",
     "output_type": "stream",
     "text": [
      "Graduate: 442\n",
      "Dropout: 284\n"
     ]
    }
   ],
   "source": [
    "label_counts = pd.Series(y_test).value_counts()\n",
    "\n",
    "print(f\"Graduate: {label_counts.get('Graduate', 0)}\")\n",
    "print(f\"Dropout: {label_counts.get('Dropout', 0)}\")"
   ]
  },
  {
   "cell_type": "code",
   "execution_count": 9,
   "metadata": {},
   "outputs": [
    {
     "name": "stdout",
     "output_type": "stream",
     "text": [
      "LogisticRegression: 84 mismatches\n",
      "RidgeClassifier: 85 mismatches\n",
      "LinearDiscriminantAnalysis: 88 mismatches\n",
      "ShrinkageLDA: 89 mismatches\n",
      "QuadraticDiscriminantAnalysis: 108 mismatches\n",
      "RegularizedQDA: 118 mismatches\n",
      "LinearSVC: 82 mismatches\n",
      "SVC_rbf: 94 mismatches\n",
      "HingeSGDClassifier: 101 mismatches\n",
      "LogLossSGDClassifier: 104 mismatches\n",
      "PolynomialSGDClassifier: 145 mismatches\n",
      "GaussianNB: 145 mismatches\n",
      "DecisionTreeClassifier: 141 mismatches\n",
      "FullDecisionTreeClassifier: 119 mismatches\n",
      "RandomForestClassifier: 93 mismatches\n",
      "KNeighborsClassifier: 118 mismatches\n",
      "BaggingClassifier: 97 mismatches\n",
      "AdaBoostClassifier: 95 mismatches\n"
     ]
    }
   ],
   "source": [
    "mismatches = {}\n",
    "\n",
    "for clf_name in classifiers.keys():\n",
    "    # Compare predicted labels with true labels (mapped)\n",
    "    mismatch_count = (results_df[f\"{clf_name}_pred\"] != results_df[\"True_Label\"].map(lambda x: 1 if x == \"Dropout\" else 0)).sum()\n",
    "    mismatches[clf_name] = mismatch_count\n",
    "\n",
    "for clf_name, count in mismatches.items():\n",
    "    \n",
    "    print(f\"{clf_name}: {count} mismatches\")"
   ]
  },
  {
   "cell_type": "code",
   "execution_count": null,
   "metadata": {},
   "outputs": [],
   "source": []
  }
 ],
 "metadata": {
  "kernelspec": {
   "display_name": "Python 3",
   "language": "python",
   "name": "python3"
  },
  "language_info": {
   "codemirror_mode": {
    "name": "ipython",
    "version": 3
   },
   "file_extension": ".py",
   "mimetype": "text/x-python",
   "name": "python",
   "nbconvert_exporter": "python",
   "pygments_lexer": "ipython3",
   "version": "3.9.13"
  }
 },
 "nbformat": 4,
 "nbformat_minor": 2
}
